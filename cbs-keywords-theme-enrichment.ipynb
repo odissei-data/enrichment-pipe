{
 "cells": [
  {
   "cell_type": "markdown",
   "id": "ed0a57b8",
   "metadata": {},
   "source": [
    "# This is the enrichment pipe"
   ]
  },
  {
   "cell_type": "markdown",
   "id": "ede94b2f",
   "metadata": {},
   "source": [
    "### Load libraries"
   ]
  },
  {
   "cell_type": "code",
   "execution_count": 30,
   "id": "35a751eb",
   "metadata": {},
   "outputs": [],
   "source": [
    "import hashlib\n",
    "import json\n",
    "import os\n",
    "import rdflib\n",
    "\n",
    "from rdflib import SKOS, RDF, XSD, Literal, Graph, Namespace, URIRef"
   ]
  },
  {
   "cell_type": "markdown",
   "id": "6b6ec2d6",
   "metadata": {},
   "source": [
    "### Select your input folder"
   ]
  },
  {
   "cell_type": "code",
   "execution_count": 2,
   "id": "0dde4df0",
   "metadata": {},
   "outputs": [],
   "source": [
    "# path to input folder\n",
    "\n",
    "input_folder = './input/'"
   ]
  },
  {
   "cell_type": "markdown",
   "id": "28763359",
   "metadata": {},
   "source": [
    "### Define ELSST dictionary"
   ]
  },
  {
   "cell_type": "code",
   "execution_count": 108,
   "id": "3c614d2a",
   "metadata": {},
   "outputs": [],
   "source": [
    "def define_elsst_dict() -> dict:\n",
    "    \n",
    "    elsst_dict = {\"typeName\":\"keywordVocabulary\",\"multiple\":False,\"typeClass\":\"primitive\",\"value\":\"ELSST\"}\n",
    "    \n",
    "    return elsst_dict"
   ]
  },
  {
   "cell_type": "markdown",
   "id": "f284ccd4",
   "metadata": {},
   "source": [
    "### Define CBS Taxonomy dictionary"
   ]
  },
  {
   "cell_type": "code",
   "execution_count": 107,
   "id": "5e6747c7",
   "metadata": {},
   "outputs": [],
   "source": [
    "def define_cbs_dict() -> dict:\n",
    "    \n",
    "    cbs_dict = {\"typeName\":\"keywordVocabulary\",\"multiple\":False,\"typeClass\":\"primitive\",\"value\":\"CBS Taxonomy\"}\n",
    "    \n",
    "    return cbs_dict"
   ]
  },
  {
   "cell_type": "markdown",
   "id": "6a9b3e12",
   "metadata": {},
   "source": [
    "### Define Keyword Vocabulary URI dictionary"
   ]
  },
  {
   "cell_type": "code",
   "execution_count": 106,
   "id": "f6a50504",
   "metadata": {},
   "outputs": [],
   "source": [
    "def define_kw_voc_dict(kw_uri) -> dict:\n",
    "    \n",
    "    kw_voc_dict = {\"typeName\":\"keywordVocabularyURI\",\"multiple\":False,\"typeClass\":\"primitive\",\"value\": kw_uri}\n",
    "    \n",
    "    return kw_voc_dict"
   ]
  },
  {
   "cell_type": "markdown",
   "id": "5e55c1aa",
   "metadata": {},
   "source": [
    "### Read input file"
   ]
  },
  {
   "cell_type": "code",
   "execution_count": 3,
   "id": "98163928",
   "metadata": {},
   "outputs": [],
   "source": [
    "def read_json(input_file: str) -> dict :\n",
    "    \n",
    "    with open(input_file) as f:\n",
    "        \n",
    "        return json.load(f)"
   ]
  },
  {
   "cell_type": "markdown",
   "id": "c293c379",
   "metadata": {},
   "source": [
    "### Make list of dictionaries for citation block"
   ]
  },
  {
   "cell_type": "code",
   "execution_count": 9,
   "id": "421b802c",
   "metadata": {},
   "outputs": [],
   "source": [
    "def make_dicts_list(json_dict: dict) -> list :\n",
    "    \n",
    "    dicts_list = json_dict['datasetVersion']['metadataBlocks']['citation']['fields']\n",
    "    \n",
    "    return dicts_list"
   ]
  },
  {
   "cell_type": "markdown",
   "id": "e8553efd",
   "metadata": {},
   "source": [
    "### Select keyword block"
   ]
  },
  {
   "cell_type": "code",
   "execution_count": 16,
   "id": "20d58605",
   "metadata": {},
   "outputs": [],
   "source": [
    "def select_kw_block(dicts_list: list) -> list:\n",
    "\n",
    "    for item in dicts_list:\n",
    "        \n",
    "        if item['typeName'] == 'keyword' :\n",
    "            \n",
    "            kw_block = item['value']\n",
    "            \n",
    "            return kw_block"
   ]
  },
  {
   "cell_type": "markdown",
   "id": "827b087c",
   "metadata": {},
   "source": [
    "### Iterate through keywords"
   ]
  },
  {
   "cell_type": "code",
   "execution_count": null,
   "id": "07a85d9a",
   "metadata": {},
   "outputs": [],
   "source": [
    "def iterate_kw(kw_block: list) -> :\n",
    "    \n",
    "    for kw_dict in kw_block:\n",
    "        \n",
    "        for k, v in kw_dict.items():\n",
    "            \n",
    "            kw_value = v['value']\n",
    "            \n",
    "            "
   ]
  },
  {
   "cell_type": "markdown",
   "id": "ef50ae3b",
   "metadata": {},
   "source": [
    "### Find enrichment"
   ]
  },
  {
   "cell_type": "code",
   "execution_count": null,
   "id": "256fe48f",
   "metadata": {},
   "outputs": [],
   "source": []
  },
  {
   "cell_type": "markdown",
   "id": "1f706b7e",
   "metadata": {},
   "source": [
    "### Add enrichment"
   ]
  },
  {
   "cell_type": "code",
   "execution_count": null,
   "id": "24a00f3e",
   "metadata": {},
   "outputs": [],
   "source": []
  },
  {
   "cell_type": "markdown",
   "id": "823a98dd",
   "metadata": {},
   "source": [
    "### Deserialize your enrichment vocabulary"
   ]
  },
  {
   "cell_type": "code",
   "execution_count": 25,
   "id": "3d05549b",
   "metadata": {},
   "outputs": [],
   "source": [
    "# path to target vocabulary\n",
    "\n",
    "voc = Graph().parse('./enrichment/cbs2elsstCbs.ttl')"
   ]
  },
  {
   "cell_type": "markdown",
   "id": "b7c1398f",
   "metadata": {},
   "source": [
    "### Define namespaces"
   ]
  },
  {
   "cell_type": "code",
   "execution_count": 52,
   "id": "c3ddd9c1",
   "metadata": {},
   "outputs": [],
   "source": [
    "ELSST = Namespace('https://elsst.cessda.eu/id/')\n",
    "CBS = Namespace('https://taxonomie.cbs.nl/vocab/id/')"
   ]
  },
  {
   "cell_type": "markdown",
   "id": "a74691a9",
   "metadata": {},
   "source": [
    "### Deserialize your input graph"
   ]
  },
  {
   "cell_type": "code",
   "execution_count": 9,
   "id": "93bcc96a",
   "metadata": {},
   "outputs": [],
   "source": [
    "def deserialize_input_graph(input_file):\n",
    "    \n",
    "    input_graph = Graph().parse(input_file)\n",
    "    \n",
    "    return input_graph"
   ]
  },
  {
   "cell_type": "markdown",
   "id": "e1f1f1e9",
   "metadata": {},
   "source": [
    "### CBS Entity Extraction\n",
    "###### Extract Keywords"
   ]
  },
  {
   "cell_type": "code",
   "execution_count": 10,
   "id": "3fd8ebf2",
   "metadata": {},
   "outputs": [],
   "source": [
    "def extract_keywords(input_graph):\n",
    "    \n",
    "    keywords = []\n",
    "    \n",
    "    for s, p, o in input_graph.triples((None, CMDI.Trefwoord, None)):\n",
    "        keywords.append(str(o))\n",
    "        \n",
    "    return keywords"
   ]
  },
  {
   "cell_type": "markdown",
   "id": "d233770d",
   "metadata": {},
   "source": [
    "### Main"
   ]
  },
  {
   "cell_type": "code",
   "execution_count": 13,
   "id": "d063a683",
   "metadata": {},
   "outputs": [],
   "source": [
    "def main():\n",
    "\n",
    "    for input_file in os.listdir(input_folder):\n",
    "    \n",
    "        if input_file.endswith('.json'):\n",
    "\n",
    "            input_file = os.path.join(input_folder, input_file)\n",
    "            \n",
    "            json_dict = read_json(input_file)\n",
    "            \n",
    "            dicts_list = make_dicts_list(json_dict)\n",
    "            \n",
    "            kw_block = select_kw_block(dicts_list)\n",
    "    \n",
    "    \n",
    "\n",
    "             "
   ]
  },
  {
   "cell_type": "code",
   "execution_count": 14,
   "id": "36424aad",
   "metadata": {},
   "outputs": [],
   "source": [
    "if __name__ == \"__main__\":\n",
    "    main()"
   ]
  },
  {
   "cell_type": "code",
   "execution_count": 19,
   "id": "e53665d9",
   "metadata": {},
   "outputs": [],
   "source": [
    "for input_file in os.listdir(input_folder):\n",
    "    \n",
    "    if input_file.endswith('.json'):\n",
    "\n",
    "        input_file = os.path.join(input_folder, input_file)\n",
    "\n",
    "        json_dict = read_json(input_file)\n",
    "        \n",
    "        dicts_list = make_dicts_list(json_dict)\n",
    "        \n",
    "        kw_block = select_kw_block(dicts_list)"
   ]
  },
  {
   "cell_type": "code",
   "execution_count": 95,
   "id": "c5dd6be6",
   "metadata": {},
   "outputs": [
    {
     "data": {
      "text/plain": [
       "[{'keywordValue': {'typeName': 'keywordValue',\n",
       "   'multiple': False,\n",
       "   'typeClass': 'primitive',\n",
       "   'value': 'Sociaaleconomische en ruimtelijke statistieken/Sociaal-economisch totaalbeeld/Onderwijs'}},\n",
       " {'keywordValue': {'typeName': 'keywordValue',\n",
       "   'multiple': False,\n",
       "   'typeClass': 'primitive',\n",
       "   'value': 'Opleiding'}},\n",
       " {'keywordValue': {'typeName': 'keywordValue',\n",
       "   'multiple': False,\n",
       "   'typeClass': 'primitive',\n",
       "   'value': 'Persoon (juridisch)'}}]"
      ]
     },
     "execution_count": 95,
     "metadata": {},
     "output_type": "execute_result"
    }
   ],
   "source": []
  },
  {
   "cell_type": "code",
   "execution_count": 94,
   "id": "f04ee0c7",
   "metadata": {},
   "outputs": [],
   "source": [
    "cbs_dict = define_cbs_dict()"
   ]
  },
  {
   "cell_type": "code",
   "execution_count": 53,
   "id": "4a165411",
   "metadata": {},
   "outputs": [
    {
     "name": "stdout",
     "output_type": "stream",
     "text": [
      "https://taxonomie.cbs.nl/vocab/id/738 cbs\n",
      "https://taxonomie.cbs.nl/vocab/id/1569 cbs\n",
      "https://elsst.cessda.eu/id/28e2d994-4be2-459e-912d-2a4c0a9d2100 elsst\n",
      "https://taxonomie.cbs.nl/vocab/id/4949 cbs\n",
      "https://elsst.cessda.eu/id/b9653315-230b-4ce1-9c43-ce86988a86da elsst\n",
      "https://taxonomie.cbs.nl/vocab/id/2339 cbs\n",
      "https://elsst.cessda.eu/id/7b97948d-8304-4e9a-86c8-6bc9445e5ccf elsst\n",
      "https://taxonomie.cbs.nl/vocab/id/374 cbs\n",
      "https://taxonomie.cbs.nl/vocab/id/1084 cbs\n",
      "https://taxonomie.cbs.nl/vocab/id/158 cbs\n",
      "https://taxonomie.cbs.nl/vocab/id/853 cbs\n",
      "https://elsst.cessda.eu/id/ebf35305-df80-4770-8bfe-2311389c5331 elsst\n",
      "https://taxonomie.cbs.nl/vocab/id/3002 cbs\n",
      "https://taxonomie.cbs.nl/vocab/id/392 cbs\n",
      "https://taxonomie.cbs.nl/vocab/id/2378 cbs\n",
      "https://taxonomie.cbs.nl/vocab/id/424 cbs\n",
      "https://taxonomie.cbs.nl/vocab/id/374 cbs\n",
      "https://taxonomie.cbs.nl/vocab/id/3429 cbs\n",
      "https://taxonomie.cbs.nl/vocab/id/4230 cbs\n",
      "https://taxonomie.cbs.nl/vocab/id/1541 cbs\n",
      "https://taxonomie.cbs.nl/vocab/id/1101 cbs\n",
      "https://taxonomie.cbs.nl/vocab/id/814 cbs\n",
      "https://taxonomie.cbs.nl/vocab/id/1722 cbs\n",
      "https://taxonomie.cbs.nl/vocab/id/406 cbs\n",
      "https://taxonomie.cbs.nl/vocab/id/1191 cbs\n",
      "https://taxonomie.cbs.nl/vocab/id/15 cbs\n",
      "https://taxonomie.cbs.nl/vocab/id/287 cbs\n",
      "https://taxonomie.cbs.nl/vocab/id/1729 cbs\n",
      "https://taxonomie.cbs.nl/vocab/id/4515 cbs\n",
      "https://taxonomie.cbs.nl/vocab/id/2909 cbs\n",
      "https://taxonomie.cbs.nl/vocab/id/513 cbs\n",
      "https://taxonomie.cbs.nl/vocab/id/795 cbs\n",
      "https://elsst.cessda.eu/id/bb3c3cfc-7f8c-4752-b313-e2612bdd45da elsst\n",
      "https://elsst.cessda.eu/id/38854495-5f8e-4a5f-aed7-8819d1b14473 elsst\n",
      "https://taxonomie.cbs.nl/vocab/id/2443 cbs\n",
      "https://taxonomie.cbs.nl/vocab/id/1539 cbs\n",
      "https://taxonomie.cbs.nl/vocab/id/1010 cbs\n",
      "https://taxonomie.cbs.nl/vocab/id/2104 cbs\n",
      "https://taxonomie.cbs.nl/vocab/id/3252 cbs\n",
      "https://taxonomie.cbs.nl/vocab/id/815 cbs\n",
      "https://taxonomie.cbs.nl/vocab/id/3021 cbs\n",
      "https://taxonomie.cbs.nl/vocab/id/3858 cbs\n",
      "https://taxonomie.cbs.nl/vocab/id/931 cbs\n",
      "https://taxonomie.cbs.nl/vocab/id/1610 cbs\n",
      "https://taxonomie.cbs.nl/vocab/id/2012 cbs\n",
      "https://taxonomie.cbs.nl/vocab/id/325 cbs\n",
      "https://taxonomie.cbs.nl/vocab/id/2577 cbs\n",
      "https://taxonomie.cbs.nl/vocab/id/569 cbs\n",
      "https://taxonomie.cbs.nl/vocab/id/3310 cbs\n",
      "https://taxonomie.cbs.nl/vocab/id/1915 cbs\n",
      "https://taxonomie.cbs.nl/vocab/id/1596 cbs\n",
      "https://elsst.cessda.eu/id/532e2026-d631-4e6f-b808-2625cad8e55d elsst\n",
      "https://taxonomie.cbs.nl/vocab/id/2229 cbs\n",
      "https://taxonomie.cbs.nl/vocab/id/2212 cbs\n",
      "https://elsst.cessda.eu/id/1d721a48-48d9-4543-b198-d61f61f94481 elsst\n",
      "https://taxonomie.cbs.nl/vocab/id/2948 cbs\n",
      "https://taxonomie.cbs.nl/vocab/id/3801 cbs\n",
      "https://elsst.cessda.eu/id/6cb8c175-de6a-41ad-90d0-beaaa074a34a elsst\n",
      "https://taxonomie.cbs.nl/vocab/id/1821 cbs\n",
      "https://taxonomie.cbs.nl/vocab/id/1761 cbs\n",
      "https://taxonomie.cbs.nl/vocab/id/441 cbs\n",
      "https://taxonomie.cbs.nl/vocab/id/2468 cbs\n",
      "https://taxonomie.cbs.nl/vocab/id/884 cbs\n",
      "https://taxonomie.cbs.nl/vocab/id/3150 cbs\n",
      "https://taxonomie.cbs.nl/vocab/id/538 cbs\n",
      "https://taxonomie.cbs.nl/vocab/id/2174 cbs\n",
      "https://taxonomie.cbs.nl/vocab/id/28 cbs\n",
      "https://taxonomie.cbs.nl/vocab/id/719 cbs\n",
      "https://taxonomie.cbs.nl/vocab/id/2390 cbs\n",
      "https://taxonomie.cbs.nl/vocab/id/1573 cbs\n",
      "https://taxonomie.cbs.nl/vocab/id/942 cbs\n",
      "https://taxonomie.cbs.nl/vocab/id/3200 cbs\n",
      "https://taxonomie.cbs.nl/vocab/id/1761 cbs\n",
      "https://taxonomie.cbs.nl/vocab/id/3929 cbs\n",
      "https://taxonomie.cbs.nl/vocab/id/1702 cbs\n",
      "https://elsst.cessda.eu/id/aa0ddef6-51fa-4eee-bcb5-2b64c41a4818 elsst\n",
      "https://taxonomie.cbs.nl/vocab/id/965 cbs\n",
      "https://taxonomie.cbs.nl/vocab/id/1590 cbs\n",
      "https://taxonomie.cbs.nl/vocab/id/2032 cbs\n",
      "https://taxonomie.cbs.nl/vocab/id/218 cbs\n",
      "https://taxonomie.cbs.nl/vocab/id/1548 cbs\n",
      "https://taxonomie.cbs.nl/vocab/id/3411 cbs\n",
      "https://taxonomie.cbs.nl/vocab/id/3856 cbs\n",
      "https://taxonomie.cbs.nl/vocab/id/3140 cbs\n",
      "https://elsst.cessda.eu/id/107ac6a0-6944-4843-8aec-3268ae51e71d elsst\n",
      "https://taxonomie.cbs.nl/vocab/id/436 cbs\n",
      "https://taxonomie.cbs.nl/vocab/id/1818 cbs\n",
      "https://elsst.cessda.eu/id/b58f36f4-7d84-46eb-aeac-6175630f8170 elsst\n",
      "https://taxonomie.cbs.nl/vocab/id/1480 cbs\n",
      "https://taxonomie.cbs.nl/vocab/id/242 cbs\n",
      "https://taxonomie.cbs.nl/vocab/id/2481 cbs\n",
      "https://taxonomie.cbs.nl/vocab/id/2654 cbs\n",
      "https://taxonomie.cbs.nl/vocab/id/3 cbs\n",
      "https://taxonomie.cbs.nl/vocab/id/1485 cbs\n",
      "https://taxonomie.cbs.nl/vocab/id/2533 cbs\n",
      "https://taxonomie.cbs.nl/vocab/id/4876 cbs\n",
      "https://taxonomie.cbs.nl/vocab/id/4365 cbs\n",
      "https://taxonomie.cbs.nl/vocab/id/1983 cbs\n",
      "https://taxonomie.cbs.nl/vocab/id/2537 cbs\n",
      "https://taxonomie.cbs.nl/vocab/id/494 cbs\n",
      "https://taxonomie.cbs.nl/vocab/id/2473 cbs\n",
      "https://taxonomie.cbs.nl/vocab/id/539 cbs\n",
      "https://taxonomie.cbs.nl/vocab/id/687 cbs\n",
      "https://taxonomie.cbs.nl/vocab/id/398 cbs\n",
      "https://taxonomie.cbs.nl/vocab/id/2106 cbs\n",
      "https://elsst.cessda.eu/id/89f80731-2537-45dd-8e0a-332aedceee9c elsst\n",
      "https://taxonomie.cbs.nl/vocab/id/3941 cbs\n",
      "https://taxonomie.cbs.nl/vocab/id/196 cbs\n",
      "https://elsst.cessda.eu/id/6c54d388-e5b5-4c2b-bd4e-9f9872e4b602 elsst\n",
      "https://taxonomie.cbs.nl/vocab/id/3513 cbs\n",
      "https://taxonomie.cbs.nl/vocab/id/1834 cbs\n",
      "https://taxonomie.cbs.nl/vocab/id/27 cbs\n",
      "https://taxonomie.cbs.nl/vocab/id/958 cbs\n",
      "https://elsst.cessda.eu/id/3af38d35-d05f-45a2-912c-48db5d0f546b elsst\n",
      "https://elsst.cessda.eu/id/afcc48bb-f0b2-4d75-ab1c-a2b2818fb831 elsst\n",
      "https://elsst.cessda.eu/id/d1bceb4d-223d-443f-a069-144ed7f0aa19 elsst\n",
      "https://elsst.cessda.eu/id/87cb170b-4146-4d4a-ba38-81e9942aecc7 elsst\n",
      "https://taxonomie.cbs.nl/vocab/id/513 cbs\n",
      "https://taxonomie.cbs.nl/vocab/id/4645 cbs\n",
      "https://taxonomie.cbs.nl/vocab/id/1480 cbs\n",
      "https://taxonomie.cbs.nl/vocab/id/4515 cbs\n",
      "https://taxonomie.cbs.nl/vocab/id/3171 cbs\n",
      "https://taxonomie.cbs.nl/vocab/id/485 cbs\n",
      "https://taxonomie.cbs.nl/vocab/id/445 cbs\n",
      "https://elsst.cessda.eu/id/d0983511-acac-4585-ae73-a5d3ae2b54c7 elsst\n",
      "https://taxonomie.cbs.nl/vocab/id/813 cbs\n",
      "https://elsst.cessda.eu/id/548388c5-9045-47a6-8b0d-a5af87c3f97c elsst\n",
      "https://taxonomie.cbs.nl/vocab/id/1619 cbs\n",
      "https://taxonomie.cbs.nl/vocab/id/1831 cbs\n",
      "https://elsst.cessda.eu/id/38c7e6d9-5947-4c18-8061-d32a99b0f5db elsst\n",
      "https://taxonomie.cbs.nl/vocab/id/2006 cbs\n",
      "https://taxonomie.cbs.nl/vocab/id/1072 cbs\n",
      "https://taxonomie.cbs.nl/vocab/id/2341 cbs\n",
      "https://taxonomie.cbs.nl/vocab/id/1007 cbs\n",
      "https://elsst.cessda.eu/id/c5310e73-4a7f-4ef6-b8d4-6fe62cef9281 elsst\n",
      "https://elsst.cessda.eu/id/b0d606f4-7a23-48aa-afd1-c43f45965090 elsst\n",
      "https://taxonomie.cbs.nl/vocab/id/2339 cbs\n",
      "https://taxonomie.cbs.nl/vocab/id/2242 cbs\n",
      "https://taxonomie.cbs.nl/vocab/id/374 cbs\n",
      "https://elsst.cessda.eu/id/23906f8c-e5ff-437b-9d8e-5878554f9053 elsst\n",
      "https://taxonomie.cbs.nl/vocab/id/1985 cbs\n",
      "https://taxonomie.cbs.nl/vocab/id/330 cbs\n",
      "https://taxonomie.cbs.nl/vocab/id/201 cbs\n",
      "https://taxonomie.cbs.nl/vocab/id/1315 cbs\n",
      "https://taxonomie.cbs.nl/vocab/id/745 cbs\n",
      "https://taxonomie.cbs.nl/vocab/id/1956 cbs\n",
      "https://taxonomie.cbs.nl/vocab/id/3684 cbs\n",
      "https://taxonomie.cbs.nl/vocab/id/856 cbs\n",
      "https://taxonomie.cbs.nl/vocab/id/155 cbs\n",
      "https://taxonomie.cbs.nl/vocab/id/569 cbs\n",
      "https://taxonomie.cbs.nl/vocab/id/3409 cbs\n",
      "https://elsst.cessda.eu/id/dab48525-c485-459b-bb41-730756f1dd65 elsst\n",
      "https://taxonomie.cbs.nl/vocab/id/128 cbs\n",
      "https://elsst.cessda.eu/id/c4cb3540-d9a3-4e1e-a3da-c5ab7ef4e7db elsst\n",
      "https://taxonomie.cbs.nl/vocab/id/3607 cbs\n",
      "https://elsst.cessda.eu/id/14642f43-4500-447a-a849-dbbf10b52290 elsst\n",
      "https://taxonomie.cbs.nl/vocab/id/1648 cbs\n",
      "https://elsst.cessda.eu/id/930def21-62a3-4de2-8f5c-daea496c9b22 elsst\n",
      "https://taxonomie.cbs.nl/vocab/id/2650 cbs\n",
      "https://taxonomie.cbs.nl/vocab/id/3207 cbs\n",
      "https://taxonomie.cbs.nl/vocab/id/1461 cbs\n",
      "https://taxonomie.cbs.nl/vocab/id/2443 cbs\n",
      "https://elsst.cessda.eu/id/0c47bd05-f399-4df3-a69d-184088955a2b elsst\n",
      "https://taxonomie.cbs.nl/vocab/id/2525 cbs\n",
      "https://taxonomie.cbs.nl/vocab/id/266 cbs\n",
      "https://taxonomie.cbs.nl/vocab/id/1509 cbs\n",
      "https://taxonomie.cbs.nl/vocab/id/3069 cbs\n",
      "https://taxonomie.cbs.nl/vocab/id/2593 cbs\n",
      "https://taxonomie.cbs.nl/vocab/id/3420 cbs\n",
      "https://taxonomie.cbs.nl/vocab/id/3395 cbs\n",
      "https://elsst.cessda.eu/id/113c8edb-f1a2-4246-86d9-7bb79b75553d elsst\n",
      "https://taxonomie.cbs.nl/vocab/id/766 cbs\n",
      "https://elsst.cessda.eu/id/2c7545d0-e32a-48cc-a3d0-47fb45bb11a9 elsst\n",
      "https://taxonomie.cbs.nl/vocab/id/1130 cbs\n",
      "https://elsst.cessda.eu/id/ba3e1900-c8c4-4a8f-9440-a08f68c7f044 elsst\n",
      "https://elsst.cessda.eu/id/ecfdbb09-277f-4b0e-93ef-6db1563a0756 elsst\n",
      "https://taxonomie.cbs.nl/vocab/id/2577 cbs\n",
      "https://taxonomie.cbs.nl/vocab/id/239 cbs\n",
      "https://taxonomie.cbs.nl/vocab/id/2822 cbs\n",
      "https://taxonomie.cbs.nl/vocab/id/22 cbs\n",
      "https://taxonomie.cbs.nl/vocab/id/4068 cbs\n",
      "https://taxonomie.cbs.nl/vocab/id/362 cbs\n",
      "https://taxonomie.cbs.nl/vocab/id/1249 cbs\n",
      "https://elsst.cessda.eu/id/b37cc12f-0019-4df4-a0cf-a85df1dcc8e0 elsst\n",
      "https://taxonomie.cbs.nl/vocab/id/96 cbs\n",
      "https://elsst.cessda.eu/id/d7b9db7e-34f9-4a11-bb11-734e9db7e67c elsst\n",
      "https://taxonomie.cbs.nl/vocab/id/2937 cbs\n",
      "https://taxonomie.cbs.nl/vocab/id/515 cbs\n",
      "https://taxonomie.cbs.nl/vocab/id/2955 cbs\n",
      "https://taxonomie.cbs.nl/vocab/id/2111 cbs\n",
      "https://taxonomie.cbs.nl/vocab/id/287 cbs\n",
      "https://taxonomie.cbs.nl/vocab/id/33 cbs\n",
      "https://taxonomie.cbs.nl/vocab/id/1543 cbs\n",
      "https://taxonomie.cbs.nl/vocab/id/1918 cbs\n",
      "https://taxonomie.cbs.nl/vocab/id/20 cbs\n",
      "https://taxonomie.cbs.nl/vocab/id/2536 cbs\n",
      "https://taxonomie.cbs.nl/vocab/id/1933 cbs\n",
      "https://taxonomie.cbs.nl/vocab/id/152 cbs\n",
      "https://taxonomie.cbs.nl/vocab/id/517 cbs\n",
      "https://elsst.cessda.eu/id/614371c5-e275-48e5-8b8e-356e10d33859 elsst\n",
      "https://taxonomie.cbs.nl/vocab/id/2178 cbs\n",
      "https://elsst.cessda.eu/id/65c58459-14cb-430d-aa5e-8bd61b75bd53 elsst\n",
      "https://taxonomie.cbs.nl/vocab/id/2389 cbs\n",
      "https://taxonomie.cbs.nl/vocab/id/1079 cbs\n",
      "https://taxonomie.cbs.nl/vocab/id/106 cbs\n",
      "https://taxonomie.cbs.nl/vocab/id/1496 cbs\n",
      "https://taxonomie.cbs.nl/vocab/id/2207 cbs\n",
      "https://taxonomie.cbs.nl/vocab/id/1483 cbs\n",
      "https://taxonomie.cbs.nl/vocab/id/451 cbs\n",
      "https://elsst.cessda.eu/id/d3fe7d9f-fced-4fba-aee7-c3c5785f21cc elsst\n",
      "https://taxonomie.cbs.nl/vocab/id/907 cbs\n",
      "https://taxonomie.cbs.nl/vocab/id/1949 cbs\n",
      "https://elsst.cessda.eu/id/b262b038-371d-47d2-a11f-c0ac36758bba elsst\n",
      "https://elsst.cessda.eu/id/9066341c-d3d8-4ed4-ad78-69c77e5945da elsst\n",
      "https://elsst.cessda.eu/id/16deddc9-d8b6-4232-9eab-594df5068a30 elsst\n",
      "https://taxonomie.cbs.nl/vocab/id/1867 cbs\n",
      "https://taxonomie.cbs.nl/vocab/id/2399 cbs\n",
      "https://elsst.cessda.eu/id/0c7156cf-48cc-4b83-a572-2bc35f9dcc16 elsst\n",
      "https://taxonomie.cbs.nl/vocab/id/3522 cbs\n",
      "https://taxonomie.cbs.nl/vocab/id/43 cbs\n",
      "https://taxonomie.cbs.nl/vocab/id/201 cbs\n",
      "https://taxonomie.cbs.nl/vocab/id/1612 cbs\n",
      "https://elsst.cessda.eu/id/f95d4a93-4490-4a87-99c1-2e56da67191f elsst\n",
      "https://taxonomie.cbs.nl/vocab/id/2234 cbs\n",
      "https://taxonomie.cbs.nl/vocab/id/786 cbs\n",
      "https://elsst.cessda.eu/id/02acd4d7-de7e-4656-ae67-6a0b0ab03e72 elsst\n",
      "https://elsst.cessda.eu/id/91c1b36f-85ff-4345-9678-86a4950fe57a elsst\n",
      "https://taxonomie.cbs.nl/vocab/id/526 cbs\n",
      "https://taxonomie.cbs.nl/vocab/id/2260 cbs\n",
      "https://taxonomie.cbs.nl/vocab/id/3452 cbs\n",
      "https://taxonomie.cbs.nl/vocab/id/3301 cbs\n",
      "https://taxonomie.cbs.nl/vocab/id/1611 cbs\n",
      "https://taxonomie.cbs.nl/vocab/id/527 cbs\n",
      "https://taxonomie.cbs.nl/vocab/id/26 cbs\n",
      "https://taxonomie.cbs.nl/vocab/id/1535 cbs\n",
      "https://taxonomie.cbs.nl/vocab/id/396 cbs\n",
      "https://elsst.cessda.eu/id/89f80731-2537-45dd-8e0a-332aedceee9c elsst\n",
      "https://taxonomie.cbs.nl/vocab/id/2169 cbs\n",
      "https://taxonomie.cbs.nl/vocab/id/3840 cbs\n",
      "https://taxonomie.cbs.nl/vocab/id/154 cbs\n",
      "https://taxonomie.cbs.nl/vocab/id/897 cbs\n",
      "https://taxonomie.cbs.nl/vocab/id/849 cbs\n",
      "https://taxonomie.cbs.nl/vocab/id/2642 cbs\n",
      "https://taxonomie.cbs.nl/vocab/id/1870 cbs\n",
      "https://taxonomie.cbs.nl/vocab/id/1506 cbs\n",
      "https://taxonomie.cbs.nl/vocab/id/5 cbs\n",
      "https://taxonomie.cbs.nl/vocab/id/3222 cbs\n",
      "https://taxonomie.cbs.nl/vocab/id/1504 cbs\n",
      "https://elsst.cessda.eu/id/f1be4577-ef8a-4d37-81cc-0f349c3e87df elsst\n",
      "https://elsst.cessda.eu/id/acdfb412-a63f-4ff6-a371-db94edf733bb elsst\n",
      "https://taxonomie.cbs.nl/vocab/id/3578 cbs\n",
      "https://taxonomie.cbs.nl/vocab/id/3426 cbs\n",
      "https://taxonomie.cbs.nl/vocab/id/43 cbs\n",
      "https://taxonomie.cbs.nl/vocab/id/897 cbs\n",
      "https://taxonomie.cbs.nl/vocab/id/3124 cbs\n",
      "https://taxonomie.cbs.nl/vocab/id/90 cbs\n",
      "https://taxonomie.cbs.nl/vocab/id/3853 cbs\n",
      "https://taxonomie.cbs.nl/vocab/id/3857 cbs\n",
      "https://taxonomie.cbs.nl/vocab/id/918 cbs\n",
      "https://taxonomie.cbs.nl/vocab/id/2717 cbs\n",
      "https://taxonomie.cbs.nl/vocab/id/1673 cbs\n",
      "https://taxonomie.cbs.nl/vocab/id/1040 cbs\n",
      "https://taxonomie.cbs.nl/vocab/id/4263 cbs\n",
      "https://taxonomie.cbs.nl/vocab/id/3860 cbs\n",
      "https://taxonomie.cbs.nl/vocab/id/389 cbs\n",
      "https://taxonomie.cbs.nl/vocab/id/710 cbs\n",
      "https://taxonomie.cbs.nl/vocab/id/650 cbs\n",
      "https://elsst.cessda.eu/id/bb4d28a7-7855-4053-bda5-99e7c476e78b elsst\n",
      "https://taxonomie.cbs.nl/vocab/id/742 cbs\n",
      "https://taxonomie.cbs.nl/vocab/id/812 cbs\n",
      "https://taxonomie.cbs.nl/vocab/id/206 cbs\n",
      "https://taxonomie.cbs.nl/vocab/id/1235 cbs\n",
      "https://taxonomie.cbs.nl/vocab/id/8540 cbs\n",
      "https://taxonomie.cbs.nl/vocab/id/3276 cbs\n",
      "https://elsst.cessda.eu/id/101da3ba-0ede-4e67-939e-6996477dcdc0 elsst\n",
      "https://elsst.cessda.eu/id/30dc65f3-99cc-41a9-aca4-00ce24ab386d elsst\n",
      "https://taxonomie.cbs.nl/vocab/id/3297 cbs\n",
      "https://taxonomie.cbs.nl/vocab/id/1533 cbs\n",
      "https://elsst.cessda.eu/id/c5310e73-4a7f-4ef6-b8d4-6fe62cef9281 elsst\n",
      "https://taxonomie.cbs.nl/vocab/id/1431 cbs\n",
      "https://taxonomie.cbs.nl/vocab/id/543 cbs\n",
      "https://taxonomie.cbs.nl/vocab/id/1248 cbs\n",
      "https://taxonomie.cbs.nl/vocab/id/2106 cbs\n",
      "https://elsst.cessda.eu/id/778dc4e5-2aea-41fb-acbc-f04940788616 elsst\n",
      "https://elsst.cessda.eu/id/190cc3f1-da93-4e0c-bed1-a2c877c5a641 elsst\n",
      "https://taxonomie.cbs.nl/vocab/id/1915 cbs\n",
      "https://elsst.cessda.eu/id/9fb6ca15-b17d-4b94-9242-85d744e753ff elsst\n",
      "https://taxonomie.cbs.nl/vocab/id/4082 cbs\n",
      "https://taxonomie.cbs.nl/vocab/id/4317 cbs\n",
      "https://taxonomie.cbs.nl/vocab/id/1056 cbs\n",
      "https://elsst.cessda.eu/id/fbe772f6-d6de-4439-b7d9-94835f208acd elsst\n",
      "https://elsst.cessda.eu/id/85c2f85e-51c4-4cb3-b1b8-1146c3840d53 elsst\n",
      "https://taxonomie.cbs.nl/vocab/id/209 cbs\n",
      "https://taxonomie.cbs.nl/vocab/id/872 cbs\n",
      "https://taxonomie.cbs.nl/vocab/id/22 cbs\n",
      "https://elsst.cessda.eu/id/205c56de-d9b4-4548-92b2-411873c0b417 elsst\n",
      "https://taxonomie.cbs.nl/vocab/id/1022 cbs\n",
      "https://elsst.cessda.eu/id/7b390ac4-bdcb-45a9-8c21-3fbf4c765111 elsst\n",
      "https://taxonomie.cbs.nl/vocab/id/2635 cbs\n",
      "https://taxonomie.cbs.nl/vocab/id/30 cbs\n",
      "https://taxonomie.cbs.nl/vocab/id/341 cbs\n",
      "https://elsst.cessda.eu/id/0f2d5c7b-3928-4399-9e93-885d40aabafa elsst\n",
      "https://taxonomie.cbs.nl/vocab/id/3129 cbs\n",
      "https://taxonomie.cbs.nl/vocab/id/9 cbs\n",
      "https://elsst.cessda.eu/id/da9b143c-910f-4a6d-9633-2db8807cc400 elsst\n",
      "https://elsst.cessda.eu/id/a74cd285-d1c6-4e55-8c0d-faf0fe94399f elsst\n",
      "https://taxonomie.cbs.nl/vocab/id/3455 cbs\n",
      "https://taxonomie.cbs.nl/vocab/id/1378 cbs\n",
      "https://taxonomie.cbs.nl/vocab/id/451 cbs\n",
      "https://taxonomie.cbs.nl/vocab/id/3265 cbs\n",
      "https://taxonomie.cbs.nl/vocab/id/2269 cbs\n",
      "https://taxonomie.cbs.nl/vocab/id/525 cbs\n",
      "https://taxonomie.cbs.nl/vocab/id/2639 cbs\n",
      "https://elsst.cessda.eu/id/8a1205b5-f75f-40bb-8c50-1d6f5fe905af elsst\n",
      "https://taxonomie.cbs.nl/vocab/id/2006 cbs\n",
      "https://elsst.cessda.eu/id/32caebf0-7bb4-4cfc-b67b-4bbd1041057f elsst\n",
      "https://elsst.cessda.eu/id/8d7101be-eb1c-4028-b122-d69c240280e8 elsst\n",
      "https://taxonomie.cbs.nl/vocab/id/2378 cbs\n",
      "https://taxonomie.cbs.nl/vocab/id/1508 cbs\n",
      "https://taxonomie.cbs.nl/vocab/id/3252 cbs\n",
      "https://taxonomie.cbs.nl/vocab/id/407 cbs\n",
      "https://taxonomie.cbs.nl/vocab/id/1514 cbs\n",
      "https://taxonomie.cbs.nl/vocab/id/3062 cbs\n",
      "https://taxonomie.cbs.nl/vocab/id/175 cbs\n",
      "https://taxonomie.cbs.nl/vocab/id/1908 cbs\n",
      "https://taxonomie.cbs.nl/vocab/id/3313 cbs\n",
      "https://taxonomie.cbs.nl/vocab/id/3285 cbs\n",
      "https://taxonomie.cbs.nl/vocab/id/140 cbs\n",
      "https://taxonomie.cbs.nl/vocab/id/1497 cbs\n",
      "https://elsst.cessda.eu/id/6794cba8-7100-47aa-87e9-fd7d21d04165 elsst\n",
      "https://taxonomie.cbs.nl/vocab/id/2940 cbs\n",
      "https://taxonomie.cbs.nl/vocab/id/3171 cbs\n",
      "https://taxonomie.cbs.nl/vocab/id/1535 cbs\n",
      "https://taxonomie.cbs.nl/vocab/id/412 cbs\n",
      "https://taxonomie.cbs.nl/vocab/id/2610 cbs\n",
      "https://taxonomie.cbs.nl/vocab/id/481 cbs\n",
      "https://taxonomie.cbs.nl/vocab/id/15 cbs\n",
      "https://elsst.cessda.eu/id/3f10df3d-ac2e-4362-929c-e88a4dbb3b37 elsst\n",
      "https://elsst.cessda.eu/id/6f6941b4-e2bd-4ce5-b82c-75ff2e2f04f9 elsst\n",
      "https://elsst.cessda.eu/id/74f1f21f-4433-473c-98c4-cc3df79ea135 elsst\n",
      "https://taxonomie.cbs.nl/vocab/id/3618 cbs\n",
      "https://taxonomie.cbs.nl/vocab/id/15 cbs\n",
      "https://taxonomie.cbs.nl/vocab/id/836 cbs\n",
      "https://taxonomie.cbs.nl/vocab/id/4365 cbs\n",
      "https://taxonomie.cbs.nl/vocab/id/153 cbs\n",
      "https://taxonomie.cbs.nl/vocab/id/3737 cbs\n",
      "https://taxonomie.cbs.nl/vocab/id/979 cbs\n",
      "https://taxonomie.cbs.nl/vocab/id/362 cbs\n",
      "https://taxonomie.cbs.nl/vocab/id/447 cbs\n",
      "https://taxonomie.cbs.nl/vocab/id/295 cbs\n",
      "https://taxonomie.cbs.nl/vocab/id/482 cbs\n",
      "https://taxonomie.cbs.nl/vocab/id/784 cbs\n",
      "https://taxonomie.cbs.nl/vocab/id/327 cbs\n",
      "https://elsst.cessda.eu/id/8e75bfbb-bd15-4914-b38e-dba853ca8195 elsst\n",
      "https://elsst.cessda.eu/id/5e868e71-e887-4487-b79e-11cda0b34eff elsst\n",
      "https://elsst.cessda.eu/id/0b4544e6-6aac-427b-9c2b-6f775233b599 elsst\n",
      "https://taxonomie.cbs.nl/vocab/id/1731 cbs\n",
      "https://taxonomie.cbs.nl/vocab/id/1450 cbs\n",
      "https://taxonomie.cbs.nl/vocab/id/3310 cbs\n",
      "https://taxonomie.cbs.nl/vocab/id/771 cbs\n",
      "https://elsst.cessda.eu/id/f125400e-39f5-4a23-922a-c7eb72a66f76 elsst\n",
      "https://taxonomie.cbs.nl/vocab/id/681 cbs\n",
      "https://taxonomie.cbs.nl/vocab/id/528 cbs\n",
      "https://elsst.cessda.eu/id/bedc0dc5-1d8a-4863-9177-78b5cb68f62b elsst\n",
      "https://taxonomie.cbs.nl/vocab/id/536 cbs\n",
      "https://taxonomie.cbs.nl/vocab/id/4216 cbs\n",
      "https://elsst.cessda.eu/id/5e3bf2e1-2a52-4345-9cb5-7638a1120a0f elsst\n",
      "https://elsst.cessda.eu/id/dd390fc8-f11a-4f20-946a-47b66f04e0db elsst\n",
      "https://taxonomie.cbs.nl/vocab/id/654 cbs\n"
     ]
    }
   ],
   "source": [
    "for s, p, o in voc.triples((None, None, None)):\n",
    "    if type(o) is URIRef:\n",
    "        if ELSST in o:\n",
    "            print(o, \"elsst\")\n",
    "        elif CBS in o:\n",
    "            print(o, \"cbs\")"
   ]
  },
  {
   "cell_type": "code",
   "execution_count": 55,
   "id": "196a4f4b",
   "metadata": {},
   "outputs": [
    {
     "name": "stdout",
     "output_type": "stream",
     "text": [
      "Sociaaleconomische en ruimtelijke statistieken/Sociaal-economisch totaalbeeld/Onderwijs\n",
      "Opleiding\n",
      "Persoon (juridisch)\n"
     ]
    }
   ],
   "source": [
    "for kw_dict in kw_block:\n",
    "    for k, v in kw_dict.items():\n",
    "        kw_value = v['value']\n",
    "        print(kw_value)"
   ]
  },
  {
   "cell_type": "code",
   "execution_count": 72,
   "id": "6dd35f92",
   "metadata": {},
   "outputs": [],
   "source": [
    "kw_value = 'Politie'"
   ]
  },
  {
   "cell_type": "code",
   "execution_count": 112,
   "id": "a841bad2",
   "metadata": {},
   "outputs": [],
   "source": [
    "for kw_dict in kw_block:\n",
    "    for k, v in kw_dict.items():\n",
    "        kw_value = v['value']\n",
    "        \n",
    "        for s, p, o in voc.triples((None, None, None)):\n",
    "            if p == SKOS.prefLabel:\n",
    "                if str(o).casefold() == kw_value.casefold():\n",
    "                    \n",
    "                    for sub, pre, obj in voc.triples((s, SKOS.relatedMatch, None)):\n",
    "                        if CBS in obj:\n",
    "                            kw_dict['keywordVocabulary'] = cbs_dict\n",
    "                            kw_dict['keywordVocabularyURI'] = define_kw_voc_dict(str(o))\n",
    "                    "
   ]
  },
  {
   "cell_type": "code",
   "execution_count": 113,
   "id": "4e8f0940",
   "metadata": {},
   "outputs": [
    {
     "data": {
      "text/plain": [
       "[{'keywordValue': {'typeName': 'keywordValue',\n",
       "   'multiple': False,\n",
       "   'typeClass': 'primitive',\n",
       "   'value': 'Sociaaleconomische en ruimtelijke statistieken/Sociaal-economisch totaalbeeld/Onderwijs'}},\n",
       " {'keywordValue': {'typeName': 'keywordValue',\n",
       "   'multiple': False,\n",
       "   'typeClass': 'primitive',\n",
       "   'value': 'Opleiding'},\n",
       "  'keywordVocabulary': {'typeName': 'keywordVocabulary',\n",
       "   'multiple': False,\n",
       "   'typeClass': 'primitive',\n",
       "   'value': 'CBS Taxonomy'},\n",
       "  'keywordVocabularyURI': {'typeName': 'keywordVocabularyURI',\n",
       "   'multiple': False,\n",
       "   'typeClass': 'primitive',\n",
       "   'value': 'Opleiding'}},\n",
       " {'keywordValue': {'typeName': 'keywordValue',\n",
       "   'multiple': False,\n",
       "   'typeClass': 'primitive',\n",
       "   'value': 'Persoon (juridisch)'}}]"
      ]
     },
     "execution_count": 113,
     "metadata": {},
     "output_type": "execute_result"
    }
   ],
   "source": [
    "kw_block"
   ]
  },
  {
   "cell_type": "code",
   "execution_count": null,
   "id": "2fbc0967",
   "metadata": {},
   "outputs": [],
   "source": [
    "def extract_keywords(input_graph):\n",
    "    \n",
    "    keywords = []\n",
    "    \n",
    "    for s, p, o in input_graph.triples((None, CMDI.Trefwoord, None)):\n",
    "        keywords.append(str(o))\n",
    "        \n",
    "    return keywords"
   ]
  },
  {
   "cell_type": "code",
   "execution_count": null,
   "id": "7594a8be",
   "metadata": {},
   "outputs": [],
   "source": []
  }
 ],
 "metadata": {
  "kernelspec": {
   "display_name": "Python 3",
   "language": "python",
   "name": "python3"
  },
  "language_info": {
   "codemirror_mode": {
    "name": "ipython",
    "version": 3
   },
   "file_extension": ".py",
   "mimetype": "text/x-python",
   "name": "python",
   "nbconvert_exporter": "python",
   "pygments_lexer": "ipython3",
   "version": "3.8.5"
  }
 },
 "nbformat": 4,
 "nbformat_minor": 5
}
