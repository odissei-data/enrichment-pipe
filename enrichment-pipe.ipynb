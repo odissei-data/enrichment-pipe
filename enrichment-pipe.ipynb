{
 "cells": [
  {
   "cell_type": "markdown",
   "id": "01c35a7e",
   "metadata": {},
   "source": [
    "# This is the enrichment pipe"
   ]
  },
  {
   "cell_type": "markdown",
   "id": "562833ed",
   "metadata": {},
   "source": [
    "### Load libraries"
   ]
  },
  {
   "cell_type": "code",
   "execution_count": 1,
   "id": "564ef6db",
   "metadata": {},
   "outputs": [],
   "source": [
    "import xmltodict\n",
    "import os\n",
    "import hashlib\n",
    "\n",
    "from rdflib import SKOS, RDF, XSD, Literal, Graph, Namespace, URIRef"
   ]
  },
  {
   "cell_type": "markdown",
   "id": "469ccdc7",
   "metadata": {},
   "source": [
    "### Select your input folder"
   ]
  },
  {
   "cell_type": "code",
   "execution_count": 2,
   "id": "bcc3b001",
   "metadata": {},
   "outputs": [],
   "source": [
    "# path to input folder\n",
    "\n",
    "input_path = './input/'"
   ]
  },
  {
   "cell_type": "markdown",
   "id": "8c6b017f",
   "metadata": {},
   "source": [
    "### Serialize your target vocabulary"
   ]
  },
  {
   "cell_type": "code",
   "execution_count": 3,
   "id": "21670839",
   "metadata": {},
   "outputs": [],
   "source": [
    "# path to target vocabulary\n",
    "\n",
    "elsst = Graph().parse('./target-vocabs/elsst-vocab.ttl')"
   ]
  },
  {
   "cell_type": "markdown",
   "id": "1cc3a909",
   "metadata": {},
   "source": [
    "### Define namespaces"
   ]
  },
  {
   "cell_type": "code",
   "execution_count": 4,
   "id": "f96e3843",
   "metadata": {},
   "outputs": [],
   "source": [
    "CMDI = Namespace(\"https://dataverse.org/schema/cbs/\")"
   ]
  },
  {
   "cell_type": "markdown",
   "id": "fed932e4",
   "metadata": {},
   "source": [
    "### Serialize your input graph"
   ]
  },
  {
   "cell_type": "code",
   "execution_count": 5,
   "id": "0161af6b",
   "metadata": {},
   "outputs": [],
   "source": [
    "def serialize_input_graph(input_file, input_file_path):\n",
    "    \n",
    "    input_graph = Graph().parse(input_file_path)\n",
    "    \n",
    "    return input_graph"
   ]
  },
  {
   "cell_type": "markdown",
   "id": "3bb361b9",
   "metadata": {},
   "source": [
    "### CBS Entity Extraction\n",
    "###### Extract Keywords"
   ]
  },
  {
   "cell_type": "code",
   "execution_count": 6,
   "id": "ad46e6a0",
   "metadata": {},
   "outputs": [],
   "source": [
    "def extract_keywords(input_graph):\n",
    "    \n",
    "    keywords = []\n",
    "    \n",
    "    for s, p, o in input_graph.triples((None, CMDI.Trefwoord, None)):\n",
    "        keywords.append(str(o))\n",
    "        \n",
    "    return keywords"
   ]
  },
  {
   "cell_type": "markdown",
   "id": "98f57569",
   "metadata": {},
   "source": [
    "### ELLST Mapping\n",
    "###### Find CBS keywords in ELSST"
   ]
  },
  {
   "cell_type": "code",
   "execution_count": 16,
   "id": "40f2b9a5",
   "metadata": {},
   "outputs": [],
   "source": [
    "def keywords_to_elsst(elsst, keywords):\n",
    "    \n",
    "    for word in keywords:\n",
    "\n",
    "        keywords_query = (\n",
    "            \"\"\"\n",
    "                PREFIX skos: <http://www.w3.org/2004/02/skos/core#>\n",
    "\n",
    "                SELECT DISTINCT ?elsstConcept ?trefwoord\n",
    "                WHERE {{\n",
    "                    ?elsstConcept skos:altLabel ?altLabel ;\n",
    "                                  skos:prefLabel ?prefLabel .\n",
    "                                  \n",
    "                    FILTER(LANG(?altLabel) = \"nl\" && LANG(?prefLabel) = \"nl\") .\n",
    "                    FILTER(STR(?altLabel) = UCASE(STR(?trefwoord)) \n",
    "                           || STR(?prefLabel) = UCASE(STR(?trefwoord))) .\n",
    "\n",
    "                }}\n",
    "            \"\"\"\n",
    "        )\n",
    "\n",
    "        response_keywords_to_elsst = elsst.query(keywords_query, initBindings={'trefwoord': word})\n",
    "        \n",
    "        return response_keywords_to_elsst"
   ]
  },
  {
   "cell_type": "markdown",
   "id": "487e4a60",
   "metadata": {},
   "source": [
    "### CBS Enrichment\n",
    "###### Enrich keywords with ELSST"
   ]
  },
  {
   "cell_type": "code",
   "execution_count": 8,
   "id": "6a2d3398",
   "metadata": {},
   "outputs": [],
   "source": [
    "def enrich_keywords_with_elsst(enriched_graph, response_keywords_to_elsst):\n",
    "    \n",
    "    for s, p, o in enriched_graph.triples((None, CMDI.Trefwoord, None)):\n",
    "        for key, value in response_keywords_to_elsst.items():\n",
    "            enriched_graph.add((s, CMDI.Trefwoord, URIRef(value[0])))\n",
    "    return enriched_graph"
   ]
  },
  {
   "cell_type": "markdown",
   "id": "1653b69e",
   "metadata": {},
   "source": [
    "### Main function - iteration through files"
   ]
  },
  {
   "cell_type": "code",
   "execution_count": 9,
   "id": "5590f3f5",
   "metadata": {},
   "outputs": [],
   "source": [
    "for input_file in os.listdir(input_path):\n",
    "    \n",
    "    if input_file.endswith('.ttl'):\n",
    "    \n",
    "        input_file_path = os.path.join(input_path, input_file)\n",
    "        \n",
    "        input_graph = serialize_input_graph(input_file, input_file_path)\n",
    "        \n",
    "        enriched_graph = input_graph\n",
    "        \n",
    "        keywords = extract_keywords(input_graph)\n",
    "        \n",
    "        response_keywords_to_elsst = keywords_to_elsst(elsst, keywords)\n",
    "        \n",
    "        #enrich_keywords_with_elsst(enriched_graph, response_keywords_to_elsst)\n",
    "             "
   ]
  },
  {
   "cell_type": "code",
   "execution_count": 17,
   "id": "dca662f8",
   "metadata": {},
   "outputs": [],
   "source": [
    "response = keywords_to_elsst(elsst, keywords)"
   ]
  },
  {
   "cell_type": "code",
   "execution_count": 18,
   "id": "3d6df9bd",
   "metadata": {},
   "outputs": [
    {
     "name": "stdout",
     "output_type": "stream",
     "text": [
      "(rdflib.term.URIRef('https://elsst.cessda.eu/id/30dc65f3-99cc-41a9-aca4-00ce24ab386d'), 'Detailhandel')\n"
     ]
    }
   ],
   "source": [
    "for row in response:\n",
    "    print(row)"
   ]
  },
  {
   "cell_type": "code",
   "execution_count": null,
   "id": "1aa3a842",
   "metadata": {},
   "outputs": [],
   "source": []
  },
  {
   "cell_type": "code",
   "execution_count": 12,
   "id": "53416c9f",
   "metadata": {},
   "outputs": [
    {
     "name": "stdout",
     "output_type": "stream",
     "text": [
      "nf42eb363fe8b4a80ad30a5be34b7870ab1175 https://dataverse.org/schema/cbs/Trefwoord Detailhandel\n",
      "nf42eb363fe8b4a80ad30a5be34b7870ab1175 https://dataverse.org/schema/cbs/Trefwoord FINANCIËN\n"
     ]
    }
   ],
   "source": []
  },
  {
   "cell_type": "code",
   "execution_count": null,
   "id": "c6a2305c",
   "metadata": {},
   "outputs": [],
   "source": []
  },
  {
   "cell_type": "code",
   "execution_count": null,
   "id": "eebf9634",
   "metadata": {},
   "outputs": [],
   "source": []
  }
 ],
 "metadata": {
  "kernelspec": {
   "display_name": "Python 3",
   "language": "python",
   "name": "python3"
  },
  "language_info": {
   "codemirror_mode": {
    "name": "ipython",
    "version": 3
   },
   "file_extension": ".py",
   "mimetype": "text/x-python",
   "name": "python",
   "nbconvert_exporter": "python",
   "pygments_lexer": "ipython3",
   "version": "3.8.5"
  }
 },
 "nbformat": 4,
 "nbformat_minor": 5
}
