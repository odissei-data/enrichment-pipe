{
 "cells": [
  {
   "cell_type": "markdown",
   "id": "d7e399a7",
   "metadata": {},
   "source": [
    "# This is the enrichment pipe"
   ]
  },
  {
   "cell_type": "markdown",
   "id": "d9b2bb20",
   "metadata": {},
   "source": [
    "### Load libraries"
   ]
  },
  {
   "cell_type": "code",
   "execution_count": 12,
   "id": "eedf597a",
   "metadata": {},
   "outputs": [],
   "source": [
    "import xmltodict\n",
    "import os\n",
    "import hashlib\n",
    "\n",
    "from rdflib import SKOS, RDF, XSD, Literal, Graph, Namespace, URIRef"
   ]
  },
  {
   "cell_type": "markdown",
   "id": "26c8375a",
   "metadata": {},
   "source": [
    "### Select your input folder"
   ]
  },
  {
   "cell_type": "code",
   "execution_count": 42,
   "id": "4e08ecdc",
   "metadata": {},
   "outputs": [],
   "source": [
    "# path to input folder\n",
    "\n",
    "input_path = './input/'"
   ]
  },
  {
   "cell_type": "markdown",
   "id": "089000a6",
   "metadata": {},
   "source": [
    "### Serialize your target vocabulary"
   ]
  },
  {
   "cell_type": "code",
   "execution_count": 43,
   "id": "bcc9f185",
   "metadata": {},
   "outputs": [],
   "source": [
    "# path to target vocabulary\n",
    "\n",
    "elsst = Graph().parse('./target-vocabs/elsst-vocab.ttl')"
   ]
  },
  {
   "cell_type": "markdown",
   "id": "6cbf9bf1",
   "metadata": {},
   "source": [
    "### Serialize your input graph"
   ]
  },
  {
   "cell_type": "code",
   "execution_count": 35,
   "id": "03a12daf",
   "metadata": {},
   "outputs": [],
   "source": [
    "def serialize_input_graph(input_file, input_file_path):\n",
    "    \n",
    "    input_graph = Graph().parse(input_file_path)\n",
    "    \n",
    "    return input_graph"
   ]
  },
  {
   "cell_type": "markdown",
   "id": "28bfe7f1",
   "metadata": {},
   "source": [
    "### For every file in input folder --> iteration in main function\n",
    "###### Enrich keywords"
   ]
  },
  {
   "cell_type": "code",
   "execution_count": 8,
   "id": "ac745148",
   "metadata": {},
   "outputs": [
    {
     "ename": "SyntaxError",
     "evalue": "unexpected EOF while parsing (<ipython-input-8-1fda79424959>, line 1)",
     "output_type": "error",
     "traceback": [
      "\u001b[0;36m  File \u001b[0;32m\"<ipython-input-8-1fda79424959>\"\u001b[0;36m, line \u001b[0;32m1\u001b[0m\n\u001b[0;31m    for file in os.listdir(directory_path):\u001b[0m\n\u001b[0m                                           ^\u001b[0m\n\u001b[0;31mSyntaxError\u001b[0m\u001b[0;31m:\u001b[0m unexpected EOF while parsing\n"
     ]
    }
   ],
   "source": [
    "def enrich_keywords(elsst, input_graph, enriched_graph):\n",
    "    \n",
    "    "
   ]
  },
  {
   "cell_type": "markdown",
   "id": "045fd318",
   "metadata": {},
   "source": [
    "### Main function - iteration through files"
   ]
  },
  {
   "cell_type": "code",
   "execution_count": 45,
   "id": "3e0a99da",
   "metadata": {},
   "outputs": [
    {
     "name": "stdout",
     "output_type": "stream",
     "text": [
      "./input/cbs-keywords-themes-thesaurus.ttl\n"
     ]
    }
   ],
   "source": [
    "for input_file in os.listdir(input_path):\n",
    "    \n",
    "    if input_file.endswith('.ttl'):\n",
    "    \n",
    "        input_file_path = os.path.join(input_path, input_file)\n",
    "        \n",
    "        print(input_file_path)\n",
    "        \n",
    "        input_graph = Graph().parse(input_file_path)\n",
    "    \n",
    "        #input_graph = serialize_input_graph(input_file, input_file_path)"
   ]
  },
  {
   "cell_type": "code",
   "execution_count": 48,
   "id": "eefdab56",
   "metadata": {},
   "outputs": [
    {
     "name": "stdout",
     "output_type": "stream",
     "text": [
      "1306\n"
     ]
    }
   ],
   "source": []
  },
  {
   "cell_type": "code",
   "execution_count": null,
   "id": "fe4d2a5a",
   "metadata": {},
   "outputs": [],
   "source": []
  }
 ],
 "metadata": {
  "kernelspec": {
   "display_name": "Python 3",
   "language": "python",
   "name": "python3"
  },
  "language_info": {
   "codemirror_mode": {
    "name": "ipython",
    "version": 3
   },
   "file_extension": ".py",
   "mimetype": "text/x-python",
   "name": "python",
   "nbconvert_exporter": "python",
   "pygments_lexer": "ipython3",
   "version": "3.8.5"
  }
 },
 "nbformat": 4,
 "nbformat_minor": 5
}
