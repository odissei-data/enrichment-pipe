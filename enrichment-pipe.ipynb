{
 "cells": [
  {
   "cell_type": "markdown",
   "id": "befa6e63",
   "metadata": {},
   "source": [
    "# This is the enrichment pipe"
   ]
  },
  {
   "cell_type": "markdown",
   "id": "af74eff2",
   "metadata": {},
   "source": [
    "### Load libraries"
   ]
  },
  {
   "cell_type": "code",
   "execution_count": 22,
   "id": "b0c0da67",
   "metadata": {},
   "outputs": [],
   "source": [
    "import xmltodict\n",
    "import os\n",
    "import hashlib\n",
    "\n",
    "from rdflib import SKOS, RDF, XSD, Literal, Graph, Namespace, URIRef"
   ]
  },
  {
   "cell_type": "markdown",
   "id": "2a802562",
   "metadata": {},
   "source": [
    "### Select your input folder"
   ]
  },
  {
   "cell_type": "code",
   "execution_count": 2,
   "id": "681ca744",
   "metadata": {},
   "outputs": [],
   "source": [
    "# path to input folder\n",
    "\n",
    "input_path = './input/'"
   ]
  },
  {
   "cell_type": "markdown",
   "id": "d900d3a0",
   "metadata": {},
   "source": [
    "### Serialize your target vocabulary"
   ]
  },
  {
   "cell_type": "code",
   "execution_count": 3,
   "id": "8372e3e9",
   "metadata": {},
   "outputs": [],
   "source": [
    "# path to target vocabulary\n",
    "\n",
    "elsst = Graph().parse('./target-vocabs/elsst-vocab.ttl')"
   ]
  },
  {
   "cell_type": "markdown",
   "id": "33536af5",
   "metadata": {},
   "source": [
    "### Define namespaces"
   ]
  },
  {
   "cell_type": "code",
   "execution_count": 31,
   "id": "8f9156ad",
   "metadata": {},
   "outputs": [],
   "source": [
    "CMDI = Namespace(\"https://dataverse.org/schema/cbs/\")"
   ]
  },
  {
   "cell_type": "markdown",
   "id": "e2f262ab",
   "metadata": {},
   "source": [
    "### Serialize your input graph"
   ]
  },
  {
   "cell_type": "code",
   "execution_count": 4,
   "id": "65aa1c31",
   "metadata": {},
   "outputs": [],
   "source": [
    "def serialize_input_graph(input_file, input_file_path):\n",
    "    \n",
    "    input_graph = Graph().parse(input_file_path)\n",
    "    \n",
    "    return input_graph"
   ]
  },
  {
   "cell_type": "markdown",
   "id": "9b9ebc35",
   "metadata": {},
   "source": [
    "### CBS Enrichment\n",
    "###### Enrich keywords with ELSST"
   ]
  },
  {
   "cell_type": "code",
   "execution_count": 5,
   "id": "48238e09",
   "metadata": {},
   "outputs": [],
   "source": [
    "def enrich_keywords(elsst, input_graph, enriched_graph):\n",
    "    \n",
    "    return"
   ]
  },
  {
   "cell_type": "markdown",
   "id": "b7faf718",
   "metadata": {},
   "source": [
    "### Main function - iteration through files"
   ]
  },
  {
   "cell_type": "code",
   "execution_count": 16,
   "id": "687e6771",
   "metadata": {},
   "outputs": [],
   "source": [
    "for input_file in os.listdir(input_path):\n",
    "    \n",
    "    if input_file.endswith('.ttl'):\n",
    "    \n",
    "        input_file_path = os.path.join(input_path, input_file)\n",
    "        \n",
    "        input_graph = serialize_input_graph(input_file, input_file_path)"
   ]
  },
  {
   "cell_type": "code",
   "execution_count": 45,
   "id": "a1b2c2c0",
   "metadata": {},
   "outputs": [
    {
     "name": "stdout",
     "output_type": "stream",
     "text": [
      "Detailhandel\n"
     ]
    }
   ],
   "source": [
    "for s, p, o in input_graph.triples((None, CMDI.Trefwoord, None)):\n",
    "    print(o)"
   ]
  },
  {
   "cell_type": "code",
   "execution_count": null,
   "id": "ff8cf0d7",
   "metadata": {},
   "outputs": [],
   "source": []
  }
 ],
 "metadata": {
  "kernelspec": {
   "display_name": "Python 3",
   "language": "python",
   "name": "python3"
  },
  "language_info": {
   "codemirror_mode": {
    "name": "ipython",
    "version": 3
   },
   "file_extension": ".py",
   "mimetype": "text/x-python",
   "name": "python",
   "nbconvert_exporter": "python",
   "pygments_lexer": "ipython3",
   "version": "3.8.5"
  }
 },
 "nbformat": 4,
 "nbformat_minor": 5
}
